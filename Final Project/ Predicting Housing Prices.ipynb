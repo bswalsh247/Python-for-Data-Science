{
 "cells": [
  {
   "cell_type": "markdown",
   "metadata": {},
   "source": [
    "# Predicting Housing Prices"
   ]
  },
  {
   "cell_type": "markdown",
   "metadata": {},
   "source": [
    "I will be using the open dataset called [Housing Values in Suburbs of Boston](https://www.kaggle.com/c/boston-housing#description) from the popular site [Kaggle](www.kaggle.com).\n",
    "\n",
    "This dataset includes 14 explanatory variables describing aspects of residential homes in the Boston surburbs. The goal is to predict the value of each home."
   ]
  },
  {
   "cell_type": "code",
   "execution_count": 3,
   "metadata": {
    "collapsed": true
   },
   "outputs": [],
   "source": [
    "import sqlite3\n",
    "import pandas as pd \n",
    "import numpy as np\n",
    "import matplotlib.pyplot as plt\n",
    "from sklearn.tree import DecisionTreeRegressor\n",
    "from sklearn.linear_model import LinearRegression\n",
    "from sklearn.model_selection import train_test_split\n",
    "from sklearn.metrics import mean_squared_error\n",
    "from math import sqrt"
   ]
  },
  {
   "cell_type": "code",
   "execution_count": 4,
   "metadata": {},
   "outputs": [
    {
     "data": {
      "text/plain": [
       "(333, 15)"
      ]
     },
     "execution_count": 4,
     "metadata": {},
     "output_type": "execute_result"
    }
   ],
   "source": [
    "df = pd.read_csv('/Users/bwalsh/Desktop/Education/Python for Data Science/Final Project/train.csv')\n",
    "df.shape"
   ]
  },
  {
   "cell_type": "code",
   "execution_count": 5,
   "metadata": {},
   "outputs": [
    {
     "data": {
      "text/html": [
       "<div>\n",
       "<style>\n",
       "    .dataframe thead tr:only-child th {\n",
       "        text-align: right;\n",
       "    }\n",
       "\n",
       "    .dataframe thead th {\n",
       "        text-align: left;\n",
       "    }\n",
       "\n",
       "    .dataframe tbody tr th {\n",
       "        vertical-align: top;\n",
       "    }\n",
       "</style>\n",
       "<table border=\"1\" class=\"dataframe\">\n",
       "  <thead>\n",
       "    <tr style=\"text-align: right;\">\n",
       "      <th></th>\n",
       "      <th>ID</th>\n",
       "      <th>crim</th>\n",
       "      <th>zn</th>\n",
       "      <th>indus</th>\n",
       "      <th>chas</th>\n",
       "      <th>nox</th>\n",
       "      <th>rm</th>\n",
       "      <th>age</th>\n",
       "      <th>dis</th>\n",
       "      <th>rad</th>\n",
       "      <th>tax</th>\n",
       "      <th>ptratio</th>\n",
       "      <th>black</th>\n",
       "      <th>lstat</th>\n",
       "      <th>medv</th>\n",
       "    </tr>\n",
       "  </thead>\n",
       "  <tbody>\n",
       "    <tr>\n",
       "      <th>0</th>\n",
       "      <td>1</td>\n",
       "      <td>0.00632</td>\n",
       "      <td>18.0</td>\n",
       "      <td>2.31</td>\n",
       "      <td>0</td>\n",
       "      <td>0.538</td>\n",
       "      <td>6.575</td>\n",
       "      <td>65.2</td>\n",
       "      <td>4.0900</td>\n",
       "      <td>1</td>\n",
       "      <td>296</td>\n",
       "      <td>15.3</td>\n",
       "      <td>396.90</td>\n",
       "      <td>4.98</td>\n",
       "      <td>24.0</td>\n",
       "    </tr>\n",
       "    <tr>\n",
       "      <th>1</th>\n",
       "      <td>2</td>\n",
       "      <td>0.02731</td>\n",
       "      <td>0.0</td>\n",
       "      <td>7.07</td>\n",
       "      <td>0</td>\n",
       "      <td>0.469</td>\n",
       "      <td>6.421</td>\n",
       "      <td>78.9</td>\n",
       "      <td>4.9671</td>\n",
       "      <td>2</td>\n",
       "      <td>242</td>\n",
       "      <td>17.8</td>\n",
       "      <td>396.90</td>\n",
       "      <td>9.14</td>\n",
       "      <td>21.6</td>\n",
       "    </tr>\n",
       "    <tr>\n",
       "      <th>2</th>\n",
       "      <td>4</td>\n",
       "      <td>0.03237</td>\n",
       "      <td>0.0</td>\n",
       "      <td>2.18</td>\n",
       "      <td>0</td>\n",
       "      <td>0.458</td>\n",
       "      <td>6.998</td>\n",
       "      <td>45.8</td>\n",
       "      <td>6.0622</td>\n",
       "      <td>3</td>\n",
       "      <td>222</td>\n",
       "      <td>18.7</td>\n",
       "      <td>394.63</td>\n",
       "      <td>2.94</td>\n",
       "      <td>33.4</td>\n",
       "    </tr>\n",
       "    <tr>\n",
       "      <th>3</th>\n",
       "      <td>5</td>\n",
       "      <td>0.06905</td>\n",
       "      <td>0.0</td>\n",
       "      <td>2.18</td>\n",
       "      <td>0</td>\n",
       "      <td>0.458</td>\n",
       "      <td>7.147</td>\n",
       "      <td>54.2</td>\n",
       "      <td>6.0622</td>\n",
       "      <td>3</td>\n",
       "      <td>222</td>\n",
       "      <td>18.7</td>\n",
       "      <td>396.90</td>\n",
       "      <td>5.33</td>\n",
       "      <td>36.2</td>\n",
       "    </tr>\n",
       "    <tr>\n",
       "      <th>4</th>\n",
       "      <td>7</td>\n",
       "      <td>0.08829</td>\n",
       "      <td>12.5</td>\n",
       "      <td>7.87</td>\n",
       "      <td>0</td>\n",
       "      <td>0.524</td>\n",
       "      <td>6.012</td>\n",
       "      <td>66.6</td>\n",
       "      <td>5.5605</td>\n",
       "      <td>5</td>\n",
       "      <td>311</td>\n",
       "      <td>15.2</td>\n",
       "      <td>395.60</td>\n",
       "      <td>12.43</td>\n",
       "      <td>22.9</td>\n",
       "    </tr>\n",
       "  </tbody>\n",
       "</table>\n",
       "</div>"
      ],
      "text/plain": [
       "   ID     crim    zn  indus  chas    nox     rm   age     dis  rad  tax  \\\n",
       "0   1  0.00632  18.0   2.31     0  0.538  6.575  65.2  4.0900    1  296   \n",
       "1   2  0.02731   0.0   7.07     0  0.469  6.421  78.9  4.9671    2  242   \n",
       "2   4  0.03237   0.0   2.18     0  0.458  6.998  45.8  6.0622    3  222   \n",
       "3   5  0.06905   0.0   2.18     0  0.458  7.147  54.2  6.0622    3  222   \n",
       "4   7  0.08829  12.5   7.87     0  0.524  6.012  66.6  5.5605    5  311   \n",
       "\n",
       "   ptratio   black  lstat  medv  \n",
       "0     15.3  396.90   4.98  24.0  \n",
       "1     17.8  396.90   9.14  21.6  \n",
       "2     18.7  394.63   2.94  33.4  \n",
       "3     18.7  396.90   5.33  36.2  \n",
       "4     15.2  395.60  12.43  22.9  "
      ]
     },
     "execution_count": 5,
     "metadata": {},
     "output_type": "execute_result"
    }
   ],
   "source": [
    "df.head()"
   ]
  },
  {
   "cell_type": "code",
   "execution_count": 6,
   "metadata": {},
   "outputs": [
    {
     "data": {
      "text/plain": [
       "Index(['ID', 'crim', 'zn', 'indus', 'chas', 'nox', 'rm', 'age', 'dis', 'rad',\n",
       "       'tax', 'ptratio', 'black', 'lstat', 'medv'],\n",
       "      dtype='object')"
      ]
     },
     "execution_count": 6,
     "metadata": {},
     "output_type": "execute_result"
    }
   ],
   "source": [
    "df.columns"
   ]
  },
  {
   "cell_type": "markdown",
   "metadata": {},
   "source": [
    "## Delcare the Columns You Want to Use as Features"
   ]
  },
  {
   "cell_type": "code",
   "execution_count": 7,
   "metadata": {
    "collapsed": true
   },
   "outputs": [],
   "source": [
    "features = [\n",
    "    'crim', 'zn', 'indus', 'chas', 'nox', 'rm', 'age', 'dis', 'rad',\n",
    "       'tax', 'ptratio', 'black', 'lstat'\n",
    "]"
   ]
  },
  {
   "cell_type": "markdown",
   "metadata": {},
   "source": [
    "## Specify the Prediction Target"
   ]
  },
  {
   "cell_type": "code",
   "execution_count": 8,
   "metadata": {
    "collapsed": true
   },
   "outputs": [],
   "source": [
    "target = ['medv']"
   ]
  },
  {
   "cell_type": "markdown",
   "metadata": {},
   "source": [
    "## Clean the Data"
   ]
  },
  {
   "cell_type": "code",
   "execution_count": 9,
   "metadata": {},
   "outputs": [
    {
     "data": {
      "text/plain": [
       "ID         False\n",
       "crim       False\n",
       "zn         False\n",
       "indus      False\n",
       "chas       False\n",
       "nox        False\n",
       "rm         False\n",
       "age        False\n",
       "dis        False\n",
       "rad        False\n",
       "tax        False\n",
       "ptratio    False\n",
       "black      False\n",
       "lstat      False\n",
       "medv       False\n",
       "dtype: bool"
      ]
     },
     "execution_count": 9,
     "metadata": {},
     "output_type": "execute_result"
    }
   ],
   "source": [
    "# checking to see if any of the row values are null\n",
    "df.isnull().any()"
   ]
  },
  {
   "cell_type": "markdown",
   "metadata": {},
   "source": [
    "## Extract Features and Target ('medv') Values into Seperate DataFrames"
   ]
  },
  {
   "cell_type": "code",
   "execution_count": 10,
   "metadata": {},
   "outputs": [
    {
     "name": "stdout",
     "output_type": "stream",
     "text": [
      "         crim    zn  indus  chas    nox     rm    age     dis  rad  tax  \\\n",
      "0     0.00632  18.0   2.31     0  0.538  6.575   65.2  4.0900    1  296   \n",
      "1     0.02731   0.0   7.07     0  0.469  6.421   78.9  4.9671    2  242   \n",
      "2     0.03237   0.0   2.18     0  0.458  6.998   45.8  6.0622    3  222   \n",
      "3     0.06905   0.0   2.18     0  0.458  7.147   54.2  6.0622    3  222   \n",
      "4     0.08829  12.5   7.87     0  0.524  6.012   66.6  5.5605    5  311   \n",
      "5     0.22489  12.5   7.87     0  0.524  6.377   94.3  6.3467    5  311   \n",
      "6     0.11747  12.5   7.87     0  0.524  6.009   82.9  6.2267    5  311   \n",
      "7     0.09378  12.5   7.87     0  0.524  5.889   39.0  5.4509    5  311   \n",
      "8     0.62976   0.0   8.14     0  0.538  5.949   61.8  4.7075    4  307   \n",
      "9     0.63796   0.0   8.14     0  0.538  6.096   84.5  4.4619    4  307   \n",
      "10    0.62739   0.0   8.14     0  0.538  5.834   56.5  4.4986    4  307   \n",
      "11    1.05393   0.0   8.14     0  0.538  5.935   29.3  4.4986    4  307   \n",
      "12    0.80271   0.0   8.14     0  0.538  5.456   36.6  3.7965    4  307   \n",
      "13    1.25179   0.0   8.14     0  0.538  5.570   98.1  3.7979    4  307   \n",
      "14    0.85204   0.0   8.14     0  0.538  5.965   89.2  4.0123    4  307   \n",
      "15    1.23247   0.0   8.14     0  0.538  6.142   91.7  3.9769    4  307   \n",
      "16    0.98843   0.0   8.14     0  0.538  5.813  100.0  4.0952    4  307   \n",
      "17    0.95577   0.0   8.14     0  0.538  6.047   88.8  4.4534    4  307   \n",
      "18    1.13081   0.0   8.14     0  0.538  5.713   94.1  4.2330    4  307   \n",
      "19    1.35472   0.0   8.14     0  0.538  6.072  100.0  4.1750    4  307   \n",
      "20    1.61282   0.0   8.14     0  0.538  6.096   96.9  3.7598    4  307   \n",
      "21    0.17505   0.0   5.96     0  0.499  5.966   30.2  3.8473    5  279   \n",
      "22    0.02763  75.0   2.95     0  0.428  6.595   21.8  5.4011    3  252   \n",
      "23    0.03359  75.0   2.95     0  0.428  7.024   15.8  5.4011    3  252   \n",
      "24    0.14150   0.0   6.91     0  0.448  6.169    6.6  5.7209    3  233   \n",
      "25    0.15936   0.0   6.91     0  0.448  6.211    6.5  5.7209    3  233   \n",
      "26    0.12269   0.0   6.91     0  0.448  6.069   40.0  5.7209    3  233   \n",
      "27    0.17142   0.0   6.91     0  0.448  5.682   33.8  5.1004    3  233   \n",
      "28    0.18836   0.0   6.91     0  0.448  5.786   33.3  5.1004    3  233   \n",
      "29    0.22927   0.0   6.91     0  0.448  6.030   85.5  5.6894    3  233   \n",
      "..        ...   ...    ...   ...    ...    ...    ...     ...  ...  ...   \n",
      "303   7.83932   0.0  18.10     0  0.655  6.209   65.4  2.9634   24  666   \n",
      "304   3.16360   0.0  18.10     0  0.655  5.759   48.2  3.0665   24  666   \n",
      "305   3.77498   0.0  18.10     0  0.655  5.952   84.7  2.8715   24  666   \n",
      "306   4.42228   0.0  18.10     0  0.584  6.003   94.5  2.5403   24  666   \n",
      "307  15.57570   0.0  18.10     0  0.580  5.926   71.0  2.9084   24  666   \n",
      "308  13.07510   0.0  18.10     0  0.580  5.713   56.7  2.8237   24  666   \n",
      "309   4.03841   0.0  18.10     0  0.532  6.229   90.7  3.0993   24  666   \n",
      "310   3.56868   0.0  18.10     0  0.580  6.437   75.0  2.8965   24  666   \n",
      "311   8.05579   0.0  18.10     0  0.584  5.427   95.4  2.4298   24  666   \n",
      "312   4.87141   0.0  18.10     0  0.614  6.484   93.6  2.3053   24  666   \n",
      "313  15.02340   0.0  18.10     0  0.614  5.304   97.3  2.1007   24  666   \n",
      "314  10.23300   0.0  18.10     0  0.614  6.185   96.7  2.1705   24  666   \n",
      "315  14.33370   0.0  18.10     0  0.614  6.229   88.0  1.9512   24  666   \n",
      "316   5.82401   0.0  18.10     0  0.532  6.242   64.7  3.4242   24  666   \n",
      "317   5.70818   0.0  18.10     0  0.532  6.750   74.9  3.3317   24  666   \n",
      "318   2.81838   0.0  18.10     0  0.532  5.762   40.3  4.0983   24  666   \n",
      "319   2.37857   0.0  18.10     0  0.583  5.871   41.9  3.7240   24  666   \n",
      "320   5.69175   0.0  18.10     0  0.583  6.114   79.8  3.5459   24  666   \n",
      "321   4.83567   0.0  18.10     0  0.583  5.905   53.2  3.1523   24  666   \n",
      "322   0.15086   0.0  27.74     0  0.609  5.454   92.7  1.8209    4  711   \n",
      "323   0.20746   0.0  27.74     0  0.609  5.093   98.0  1.8226    4  711   \n",
      "324   0.10574   0.0  27.74     0  0.609  5.983   98.8  1.8681    4  711   \n",
      "325   0.11132   0.0  27.74     0  0.609  5.983   83.5  2.1099    4  711   \n",
      "326   0.17331   0.0   9.69     0  0.585  5.707   54.0  2.3817    6  391   \n",
      "327   0.26838   0.0   9.69     0  0.585  5.794   70.6  2.8927    6  391   \n",
      "328   0.17783   0.0   9.69     0  0.585  5.569   73.5  2.3999    6  391   \n",
      "329   0.06263   0.0  11.93     0  0.573  6.593   69.1  2.4786    1  273   \n",
      "330   0.04527   0.0  11.93     0  0.573  6.120   76.7  2.2875    1  273   \n",
      "331   0.06076   0.0  11.93     0  0.573  6.976   91.0  2.1675    1  273   \n",
      "332   0.04741   0.0  11.93     0  0.573  6.030   80.8  2.5050    1  273   \n",
      "\n",
      "     ptratio   black  lstat  \n",
      "0       15.3  396.90   4.98  \n",
      "1       17.8  396.90   9.14  \n",
      "2       18.7  394.63   2.94  \n",
      "3       18.7  396.90   5.33  \n",
      "4       15.2  395.60  12.43  \n",
      "5       15.2  392.52  20.45  \n",
      "6       15.2  396.90  13.27  \n",
      "7       15.2  390.50  15.71  \n",
      "8       21.0  396.90   8.26  \n",
      "9       21.0  380.02  10.26  \n",
      "10      21.0  395.62   8.47  \n",
      "11      21.0  386.85   6.58  \n",
      "12      21.0  288.99  11.69  \n",
      "13      21.0  376.57  21.02  \n",
      "14      21.0  392.53  13.83  \n",
      "15      21.0  396.90  18.72  \n",
      "16      21.0  394.54  19.88  \n",
      "17      21.0  306.38  17.28  \n",
      "18      21.0  360.17  22.60  \n",
      "19      21.0  376.73  13.04  \n",
      "20      21.0  248.31  20.34  \n",
      "21      19.2  393.43  10.13  \n",
      "22      18.3  395.63   4.32  \n",
      "23      18.3  395.62   1.98  \n",
      "24      17.9  383.37   5.81  \n",
      "25      17.9  394.46   7.44  \n",
      "26      17.9  389.39   9.55  \n",
      "27      17.9  396.90  10.21  \n",
      "28      17.9  396.90  14.15  \n",
      "29      17.9  392.74  18.80  \n",
      "..       ...     ...    ...  \n",
      "303     20.2  396.90  13.22  \n",
      "304     20.2  334.40  14.13  \n",
      "305     20.2   22.01  17.15  \n",
      "306     20.2  331.29  21.32  \n",
      "307     20.2  368.74  18.13  \n",
      "308     20.2  396.90  14.76  \n",
      "309     20.2  395.33  12.87  \n",
      "310     20.2  393.37  14.36  \n",
      "311     20.2  352.58  18.14  \n",
      "312     20.2  396.21  18.68  \n",
      "313     20.2  349.48  24.91  \n",
      "314     20.2  379.70  18.03  \n",
      "315     20.2  383.32  13.11  \n",
      "316     20.2  396.90  10.74  \n",
      "317     20.2  393.07   7.74  \n",
      "318     20.2  392.92  10.42  \n",
      "319     20.2  370.73  13.34  \n",
      "320     20.2  392.68  14.98  \n",
      "321     20.2  388.22  11.45  \n",
      "322     20.1  395.09  18.06  \n",
      "323     20.1  318.43  29.68  \n",
      "324     20.1  390.11  18.07  \n",
      "325     20.1  396.90  13.35  \n",
      "326     19.2  396.90  12.01  \n",
      "327     19.2  396.90  14.10  \n",
      "328     19.2  395.77  15.10  \n",
      "329     21.0  391.99   9.67  \n",
      "330     21.0  396.90   9.08  \n",
      "331     21.0  396.90   5.64  \n",
      "332     21.0  396.90   7.88  \n",
      "\n",
      "[333 rows x 13 columns]\n"
     ]
    }
   ],
   "source": [
    "X = df[features]\n",
    "print(X)"
   ]
  },
  {
   "cell_type": "code",
   "execution_count": 11,
   "metadata": {},
   "outputs": [
    {
     "name": "stdout",
     "output_type": "stream",
     "text": [
      "     medv\n",
      "0    24.0\n",
      "1    21.6\n",
      "2    33.4\n",
      "3    36.2\n",
      "4    22.9\n",
      "5    15.0\n",
      "6    18.9\n",
      "7    21.7\n",
      "8    20.4\n",
      "9    18.2\n",
      "10   19.9\n",
      "11   23.1\n",
      "12   20.2\n",
      "13   13.6\n",
      "14   19.6\n",
      "15   15.2\n",
      "16   14.5\n",
      "17   14.8\n",
      "18   12.7\n",
      "19   14.5\n",
      "20   13.5\n",
      "21   24.7\n",
      "22   30.8\n",
      "23   34.9\n",
      "24   25.3\n",
      "25   24.7\n",
      "26   21.2\n",
      "27   19.3\n",
      "28   20.0\n",
      "29   16.6\n",
      "..    ...\n",
      "303  21.4\n",
      "304  19.9\n",
      "305  19.0\n",
      "306  19.1\n",
      "307  19.1\n",
      "308  20.1\n",
      "309  19.6\n",
      "310  23.2\n",
      "311  13.8\n",
      "312  16.7\n",
      "313  12.0\n",
      "314  14.6\n",
      "315  21.4\n",
      "316  23.0\n",
      "317  23.7\n",
      "318  21.8\n",
      "319  20.6\n",
      "320  19.1\n",
      "321  20.6\n",
      "322  15.2\n",
      "323   8.1\n",
      "324  13.6\n",
      "325  20.1\n",
      "326  21.8\n",
      "327  18.3\n",
      "328  17.5\n",
      "329  22.4\n",
      "330  20.6\n",
      "331  23.9\n",
      "332  11.9\n",
      "\n",
      "[333 rows x 1 columns]\n"
     ]
    }
   ],
   "source": [
    "y = df[target]\n",
    "print(y)"
   ]
  },
  {
   "cell_type": "code",
   "execution_count": 12,
   "metadata": {},
   "outputs": [
    {
     "data": {
      "text/plain": [
       "crim         0.03237\n",
       "zn           0.00000\n",
       "indus        2.18000\n",
       "chas         0.00000\n",
       "nox          0.45800\n",
       "rm           6.99800\n",
       "age         45.80000\n",
       "dis          6.06220\n",
       "rad          3.00000\n",
       "tax        222.00000\n",
       "ptratio     18.70000\n",
       "black      394.63000\n",
       "lstat        2.94000\n",
       "Name: 2, dtype: float64"
      ]
     },
     "execution_count": 12,
     "metadata": {},
     "output_type": "execute_result"
    }
   ],
   "source": [
    "# Let's print the second row for X\n",
    "X.iloc[2]"
   ]
  },
  {
   "cell_type": "code",
   "execution_count": 13,
   "metadata": {},
   "outputs": [
    {
     "data": {
      "text/html": [
       "<div>\n",
       "<style>\n",
       "    .dataframe thead tr:only-child th {\n",
       "        text-align: right;\n",
       "    }\n",
       "\n",
       "    .dataframe thead th {\n",
       "        text-align: left;\n",
       "    }\n",
       "\n",
       "    .dataframe tbody tr th {\n",
       "        vertical-align: top;\n",
       "    }\n",
       "</style>\n",
       "<table border=\"1\" class=\"dataframe\">\n",
       "  <thead>\n",
       "    <tr style=\"text-align: right;\">\n",
       "      <th></th>\n",
       "      <th>medv</th>\n",
       "    </tr>\n",
       "  </thead>\n",
       "  <tbody>\n",
       "    <tr>\n",
       "      <th>0</th>\n",
       "      <td>24.0</td>\n",
       "    </tr>\n",
       "    <tr>\n",
       "      <th>1</th>\n",
       "      <td>21.6</td>\n",
       "    </tr>\n",
       "    <tr>\n",
       "      <th>2</th>\n",
       "      <td>33.4</td>\n",
       "    </tr>\n",
       "    <tr>\n",
       "      <th>3</th>\n",
       "      <td>36.2</td>\n",
       "    </tr>\n",
       "    <tr>\n",
       "      <th>4</th>\n",
       "      <td>22.9</td>\n",
       "    </tr>\n",
       "    <tr>\n",
       "      <th>5</th>\n",
       "      <td>15.0</td>\n",
       "    </tr>\n",
       "    <tr>\n",
       "      <th>6</th>\n",
       "      <td>18.9</td>\n",
       "    </tr>\n",
       "    <tr>\n",
       "      <th>7</th>\n",
       "      <td>21.7</td>\n",
       "    </tr>\n",
       "    <tr>\n",
       "      <th>8</th>\n",
       "      <td>20.4</td>\n",
       "    </tr>\n",
       "    <tr>\n",
       "      <th>9</th>\n",
       "      <td>18.2</td>\n",
       "    </tr>\n",
       "    <tr>\n",
       "      <th>10</th>\n",
       "      <td>19.9</td>\n",
       "    </tr>\n",
       "    <tr>\n",
       "      <th>11</th>\n",
       "      <td>23.1</td>\n",
       "    </tr>\n",
       "    <tr>\n",
       "      <th>12</th>\n",
       "      <td>20.2</td>\n",
       "    </tr>\n",
       "    <tr>\n",
       "      <th>13</th>\n",
       "      <td>13.6</td>\n",
       "    </tr>\n",
       "    <tr>\n",
       "      <th>14</th>\n",
       "      <td>19.6</td>\n",
       "    </tr>\n",
       "    <tr>\n",
       "      <th>15</th>\n",
       "      <td>15.2</td>\n",
       "    </tr>\n",
       "    <tr>\n",
       "      <th>16</th>\n",
       "      <td>14.5</td>\n",
       "    </tr>\n",
       "    <tr>\n",
       "      <th>17</th>\n",
       "      <td>14.8</td>\n",
       "    </tr>\n",
       "    <tr>\n",
       "      <th>18</th>\n",
       "      <td>12.7</td>\n",
       "    </tr>\n",
       "    <tr>\n",
       "      <th>19</th>\n",
       "      <td>14.5</td>\n",
       "    </tr>\n",
       "    <tr>\n",
       "      <th>20</th>\n",
       "      <td>13.5</td>\n",
       "    </tr>\n",
       "    <tr>\n",
       "      <th>21</th>\n",
       "      <td>24.7</td>\n",
       "    </tr>\n",
       "    <tr>\n",
       "      <th>22</th>\n",
       "      <td>30.8</td>\n",
       "    </tr>\n",
       "    <tr>\n",
       "      <th>23</th>\n",
       "      <td>34.9</td>\n",
       "    </tr>\n",
       "    <tr>\n",
       "      <th>24</th>\n",
       "      <td>25.3</td>\n",
       "    </tr>\n",
       "    <tr>\n",
       "      <th>25</th>\n",
       "      <td>24.7</td>\n",
       "    </tr>\n",
       "    <tr>\n",
       "      <th>26</th>\n",
       "      <td>21.2</td>\n",
       "    </tr>\n",
       "    <tr>\n",
       "      <th>27</th>\n",
       "      <td>19.3</td>\n",
       "    </tr>\n",
       "    <tr>\n",
       "      <th>28</th>\n",
       "      <td>20.0</td>\n",
       "    </tr>\n",
       "    <tr>\n",
       "      <th>29</th>\n",
       "      <td>16.6</td>\n",
       "    </tr>\n",
       "    <tr>\n",
       "      <th>...</th>\n",
       "      <td>...</td>\n",
       "    </tr>\n",
       "    <tr>\n",
       "      <th>303</th>\n",
       "      <td>21.4</td>\n",
       "    </tr>\n",
       "    <tr>\n",
       "      <th>304</th>\n",
       "      <td>19.9</td>\n",
       "    </tr>\n",
       "    <tr>\n",
       "      <th>305</th>\n",
       "      <td>19.0</td>\n",
       "    </tr>\n",
       "    <tr>\n",
       "      <th>306</th>\n",
       "      <td>19.1</td>\n",
       "    </tr>\n",
       "    <tr>\n",
       "      <th>307</th>\n",
       "      <td>19.1</td>\n",
       "    </tr>\n",
       "    <tr>\n",
       "      <th>308</th>\n",
       "      <td>20.1</td>\n",
       "    </tr>\n",
       "    <tr>\n",
       "      <th>309</th>\n",
       "      <td>19.6</td>\n",
       "    </tr>\n",
       "    <tr>\n",
       "      <th>310</th>\n",
       "      <td>23.2</td>\n",
       "    </tr>\n",
       "    <tr>\n",
       "      <th>311</th>\n",
       "      <td>13.8</td>\n",
       "    </tr>\n",
       "    <tr>\n",
       "      <th>312</th>\n",
       "      <td>16.7</td>\n",
       "    </tr>\n",
       "    <tr>\n",
       "      <th>313</th>\n",
       "      <td>12.0</td>\n",
       "    </tr>\n",
       "    <tr>\n",
       "      <th>314</th>\n",
       "      <td>14.6</td>\n",
       "    </tr>\n",
       "    <tr>\n",
       "      <th>315</th>\n",
       "      <td>21.4</td>\n",
       "    </tr>\n",
       "    <tr>\n",
       "      <th>316</th>\n",
       "      <td>23.0</td>\n",
       "    </tr>\n",
       "    <tr>\n",
       "      <th>317</th>\n",
       "      <td>23.7</td>\n",
       "    </tr>\n",
       "    <tr>\n",
       "      <th>318</th>\n",
       "      <td>21.8</td>\n",
       "    </tr>\n",
       "    <tr>\n",
       "      <th>319</th>\n",
       "      <td>20.6</td>\n",
       "    </tr>\n",
       "    <tr>\n",
       "      <th>320</th>\n",
       "      <td>19.1</td>\n",
       "    </tr>\n",
       "    <tr>\n",
       "      <th>321</th>\n",
       "      <td>20.6</td>\n",
       "    </tr>\n",
       "    <tr>\n",
       "      <th>322</th>\n",
       "      <td>15.2</td>\n",
       "    </tr>\n",
       "    <tr>\n",
       "      <th>323</th>\n",
       "      <td>8.1</td>\n",
       "    </tr>\n",
       "    <tr>\n",
       "      <th>324</th>\n",
       "      <td>13.6</td>\n",
       "    </tr>\n",
       "    <tr>\n",
       "      <th>325</th>\n",
       "      <td>20.1</td>\n",
       "    </tr>\n",
       "    <tr>\n",
       "      <th>326</th>\n",
       "      <td>21.8</td>\n",
       "    </tr>\n",
       "    <tr>\n",
       "      <th>327</th>\n",
       "      <td>18.3</td>\n",
       "    </tr>\n",
       "    <tr>\n",
       "      <th>328</th>\n",
       "      <td>17.5</td>\n",
       "    </tr>\n",
       "    <tr>\n",
       "      <th>329</th>\n",
       "      <td>22.4</td>\n",
       "    </tr>\n",
       "    <tr>\n",
       "      <th>330</th>\n",
       "      <td>20.6</td>\n",
       "    </tr>\n",
       "    <tr>\n",
       "      <th>331</th>\n",
       "      <td>23.9</td>\n",
       "    </tr>\n",
       "    <tr>\n",
       "      <th>332</th>\n",
       "      <td>11.9</td>\n",
       "    </tr>\n",
       "  </tbody>\n",
       "</table>\n",
       "<p>333 rows × 1 columns</p>\n",
       "</div>"
      ],
      "text/plain": [
       "     medv\n",
       "0    24.0\n",
       "1    21.6\n",
       "2    33.4\n",
       "3    36.2\n",
       "4    22.9\n",
       "5    15.0\n",
       "6    18.9\n",
       "7    21.7\n",
       "8    20.4\n",
       "9    18.2\n",
       "10   19.9\n",
       "11   23.1\n",
       "12   20.2\n",
       "13   13.6\n",
       "14   19.6\n",
       "15   15.2\n",
       "16   14.5\n",
       "17   14.8\n",
       "18   12.7\n",
       "19   14.5\n",
       "20   13.5\n",
       "21   24.7\n",
       "22   30.8\n",
       "23   34.9\n",
       "24   25.3\n",
       "25   24.7\n",
       "26   21.2\n",
       "27   19.3\n",
       "28   20.0\n",
       "29   16.6\n",
       "..    ...\n",
       "303  21.4\n",
       "304  19.9\n",
       "305  19.0\n",
       "306  19.1\n",
       "307  19.1\n",
       "308  20.1\n",
       "309  19.6\n",
       "310  23.2\n",
       "311  13.8\n",
       "312  16.7\n",
       "313  12.0\n",
       "314  14.6\n",
       "315  21.4\n",
       "316  23.0\n",
       "317  23.7\n",
       "318  21.8\n",
       "319  20.6\n",
       "320  19.1\n",
       "321  20.6\n",
       "322  15.2\n",
       "323   8.1\n",
       "324  13.6\n",
       "325  20.1\n",
       "326  21.8\n",
       "327  18.3\n",
       "328  17.5\n",
       "329  22.4\n",
       "330  20.6\n",
       "331  23.9\n",
       "332  11.9\n",
       "\n",
       "[333 rows x 1 columns]"
      ]
     },
     "execution_count": 13,
     "metadata": {},
     "output_type": "execute_result"
    }
   ],
   "source": [
    "# dipslaying target values\n",
    "y"
   ]
  },
  {
   "cell_type": "markdown",
   "metadata": {},
   "source": [
    "## Explore the data"
   ]
  },
  {
   "cell_type": "code",
   "execution_count": 14,
   "metadata": {},
   "outputs": [
    {
     "data": {
      "text/html": [
       "<div>\n",
       "<style>\n",
       "    .dataframe thead tr:only-child th {\n",
       "        text-align: right;\n",
       "    }\n",
       "\n",
       "    .dataframe thead th {\n",
       "        text-align: left;\n",
       "    }\n",
       "\n",
       "    .dataframe tbody tr th {\n",
       "        vertical-align: top;\n",
       "    }\n",
       "</style>\n",
       "<table border=\"1\" class=\"dataframe\">\n",
       "  <thead>\n",
       "    <tr style=\"text-align: right;\">\n",
       "      <th></th>\n",
       "      <th>ID</th>\n",
       "      <th>crim</th>\n",
       "      <th>zn</th>\n",
       "      <th>indus</th>\n",
       "      <th>chas</th>\n",
       "      <th>nox</th>\n",
       "      <th>rm</th>\n",
       "      <th>age</th>\n",
       "      <th>dis</th>\n",
       "      <th>rad</th>\n",
       "      <th>tax</th>\n",
       "      <th>ptratio</th>\n",
       "      <th>black</th>\n",
       "      <th>lstat</th>\n",
       "      <th>medv</th>\n",
       "    </tr>\n",
       "  </thead>\n",
       "  <tbody>\n",
       "    <tr>\n",
       "      <th>0</th>\n",
       "      <td>1</td>\n",
       "      <td>0.00632</td>\n",
       "      <td>18.0</td>\n",
       "      <td>2.31</td>\n",
       "      <td>0</td>\n",
       "      <td>0.538</td>\n",
       "      <td>6.575</td>\n",
       "      <td>65.2</td>\n",
       "      <td>4.0900</td>\n",
       "      <td>1</td>\n",
       "      <td>296</td>\n",
       "      <td>15.3</td>\n",
       "      <td>396.90</td>\n",
       "      <td>4.98</td>\n",
       "      <td>24.0</td>\n",
       "    </tr>\n",
       "    <tr>\n",
       "      <th>1</th>\n",
       "      <td>2</td>\n",
       "      <td>0.02731</td>\n",
       "      <td>0.0</td>\n",
       "      <td>7.07</td>\n",
       "      <td>0</td>\n",
       "      <td>0.469</td>\n",
       "      <td>6.421</td>\n",
       "      <td>78.9</td>\n",
       "      <td>4.9671</td>\n",
       "      <td>2</td>\n",
       "      <td>242</td>\n",
       "      <td>17.8</td>\n",
       "      <td>396.90</td>\n",
       "      <td>9.14</td>\n",
       "      <td>21.6</td>\n",
       "    </tr>\n",
       "    <tr>\n",
       "      <th>2</th>\n",
       "      <td>4</td>\n",
       "      <td>0.03237</td>\n",
       "      <td>0.0</td>\n",
       "      <td>2.18</td>\n",
       "      <td>0</td>\n",
       "      <td>0.458</td>\n",
       "      <td>6.998</td>\n",
       "      <td>45.8</td>\n",
       "      <td>6.0622</td>\n",
       "      <td>3</td>\n",
       "      <td>222</td>\n",
       "      <td>18.7</td>\n",
       "      <td>394.63</td>\n",
       "      <td>2.94</td>\n",
       "      <td>33.4</td>\n",
       "    </tr>\n",
       "    <tr>\n",
       "      <th>3</th>\n",
       "      <td>5</td>\n",
       "      <td>0.06905</td>\n",
       "      <td>0.0</td>\n",
       "      <td>2.18</td>\n",
       "      <td>0</td>\n",
       "      <td>0.458</td>\n",
       "      <td>7.147</td>\n",
       "      <td>54.2</td>\n",
       "      <td>6.0622</td>\n",
       "      <td>3</td>\n",
       "      <td>222</td>\n",
       "      <td>18.7</td>\n",
       "      <td>396.90</td>\n",
       "      <td>5.33</td>\n",
       "      <td>36.2</td>\n",
       "    </tr>\n",
       "    <tr>\n",
       "      <th>4</th>\n",
       "      <td>7</td>\n",
       "      <td>0.08829</td>\n",
       "      <td>12.5</td>\n",
       "      <td>7.87</td>\n",
       "      <td>0</td>\n",
       "      <td>0.524</td>\n",
       "      <td>6.012</td>\n",
       "      <td>66.6</td>\n",
       "      <td>5.5605</td>\n",
       "      <td>5</td>\n",
       "      <td>311</td>\n",
       "      <td>15.2</td>\n",
       "      <td>395.60</td>\n",
       "      <td>12.43</td>\n",
       "      <td>22.9</td>\n",
       "    </tr>\n",
       "  </tbody>\n",
       "</table>\n",
       "</div>"
      ],
      "text/plain": [
       "   ID     crim    zn  indus  chas    nox     rm   age     dis  rad  tax  \\\n",
       "0   1  0.00632  18.0   2.31     0  0.538  6.575  65.2  4.0900    1  296   \n",
       "1   2  0.02731   0.0   7.07     0  0.469  6.421  78.9  4.9671    2  242   \n",
       "2   4  0.03237   0.0   2.18     0  0.458  6.998  45.8  6.0622    3  222   \n",
       "3   5  0.06905   0.0   2.18     0  0.458  7.147  54.2  6.0622    3  222   \n",
       "4   7  0.08829  12.5   7.87     0  0.524  6.012  66.6  5.5605    5  311   \n",
       "\n",
       "   ptratio   black  lstat  medv  \n",
       "0     15.3  396.90   4.98  24.0  \n",
       "1     17.8  396.90   9.14  21.6  \n",
       "2     18.7  394.63   2.94  33.4  \n",
       "3     18.7  396.90   5.33  36.2  \n",
       "4     15.2  395.60  12.43  22.9  "
      ]
     },
     "execution_count": 14,
     "metadata": {},
     "output_type": "execute_result"
    }
   ],
   "source": [
    "df.head()"
   ]
  },
  {
   "cell_type": "code",
   "execution_count": 15,
   "metadata": {},
   "outputs": [
    {
     "data": {
      "image/png": "[encoded data removed]",
      "text/plain": [
       "<matplotlib.figure.Figure at 0x1055f69b0>"
      ]
     },
     "metadata": {},
     "output_type": "display_data"
    }
   ],
   "source": [
    "%matplotlib inline\n",
    "\n",
    "fig, axis = plt.subplots()\n",
    "# Grid lines, Xtricks, Xlabel, Ylabel\n",
    "\n",
    "axis.set_xlabel('Crime rate \\(per capita\\)',fontsize=10)\n",
    "axis.set_ylabel('Median Price Value',fontsize=10)\n",
    "\n",
    "X = df['crim']\n",
    "Y = df['medv']\n",
    "\n",
    "axis.scatter(X, Y)\n",
    "plt.show()"
   ]
  },
  {
   "cell_type": "code",
   "execution_count": 16,
   "metadata": {},
   "outputs": [
    {
     "data": {
      "text/plain": [
       "array([[ 1.        , -0.40745432],\n",
       "       [-0.40745432,  1.        ]])"
      ]
     },
     "execution_count": 16,
     "metadata": {},
     "output_type": "execute_result"
    }
   ],
   "source": [
    "np.corrcoef(df['crim'],df['medv'])"
   ]
  },
  {
   "cell_type": "code",
   "execution_count": 17,
   "metadata": {},
   "outputs": [
    {
     "data": {
      "image/png": "[encoded data removed]",
      "text/plain": [
       "<matplotlib.figure.Figure at 0x108562f98>"
      ]
     },
     "metadata": {},
     "output_type": "display_data"
    }
   ],
   "source": [
    "%matplotlib inline\n",
    "\n",
    "fig, axis = plt.subplots()\n",
    "# Grid lines, Xtricks, Xlabel, Ylabel\n",
    "\n",
    "axis.set_xlabel('proportion of residential land zoned for lots over 25,000 sq.ft.',fontsize=10)\n",
    "axis.set_ylabel('Median Price Value',fontsize=10)\n",
    "\n",
    "X = df['zn']\n",
    "Y = df['medv']\n",
    "\n",
    "axis.scatter(X, Y)\n",
    "plt.show()"
   ]
  },
  {
   "cell_type": "code",
   "execution_count": 18,
   "metadata": {},
   "outputs": [
    {
     "data": {
      "text/plain": [
       "array([[ 1.        ,  0.34484198],\n",
       "       [ 0.34484198,  1.        ]])"
      ]
     },
     "execution_count": 18,
     "metadata": {},
     "output_type": "execute_result"
    }
   ],
   "source": [
    "np.corrcoef(df['zn'],df['medv'])"
   ]
  },
  {
   "cell_type": "code",
   "execution_count": 19,
   "metadata": {},
   "outputs": [
    {
     "data": {
      "image/png": "[encoded data removed]",
      "text/plain": [
       "<matplotlib.figure.Figure at 0x10c4e3908>"
      ]
     },
     "metadata": {},
     "output_type": "display_data"
    }
   ],
   "source": [
    "%matplotlib inline\n",
    "\n",
    "fig, axis = plt.subplots()\n",
    "# Grid lines, Xtricks, Xlabel, Ylabel\n",
    "\n",
    "axis.set_xlabel('proportion of non-retail business acres per town',fontsize=10)\n",
    "axis.set_ylabel('Median Price Value',fontsize=10)\n",
    "\n",
    "X = df['indus']\n",
    "Y = df['medv']\n",
    "\n",
    "axis.scatter(X, Y)\n",
    "plt.show()"
   ]
  },
  {
   "cell_type": "code",
   "execution_count": 20,
   "metadata": {},
   "outputs": [
    {
     "data": {
      "text/plain": [
       "array([[ 1.        , -0.47393197],\n",
       "       [-0.47393197,  1.        ]])"
      ]
     },
     "execution_count": 20,
     "metadata": {},
     "output_type": "execute_result"
    }
   ],
   "source": [
    "np.corrcoef(df['indus'],df['medv'])"
   ]
  },
  {
   "cell_type": "code",
   "execution_count": 21,
   "metadata": {},
   "outputs": [
    {
     "data": {
      "image/png": "[encoded data removed]",
      "text/plain": [
       "<matplotlib.figure.Figure at 0x10c664438>"
      ]
     },
     "metadata": {},
     "output_type": "display_data"
    }
   ],
   "source": [
    "%matplotlib inline\n",
    "\n",
    "fig, axis = plt.subplots()\n",
    "# Grid lines, Xtricks, Xlabel, Ylabel\n",
    "\n",
    "axis.set_xlabel('Charles River tracts home or not',fontsize=10)\n",
    "axis.set_ylabel('Median Price Value',fontsize=10)\n",
    "\n",
    "X = df['chas']\n",
    "Y = df['medv']\n",
    "\n",
    "axis.scatter(X, Y)\n",
    "plt.show()"
   ]
  },
  {
   "cell_type": "code",
   "execution_count": 22,
   "metadata": {},
   "outputs": [
    {
     "data": {
      "text/plain": [
       "array([[ 1.        ,  0.20438999],\n",
       "       [ 0.20438999,  1.        ]])"
      ]
     },
     "execution_count": 22,
     "metadata": {},
     "output_type": "execute_result"
    }
   ],
   "source": [
    "np.corrcoef(df['chas'],df['medv'])"
   ]
  },
  {
   "cell_type": "code",
   "execution_count": 23,
   "metadata": {},
   "outputs": [
    {
     "data": {
      "image/png": "[encoded data removed]",
      "text/plain": [
       "<matplotlib.figure.Figure at 0x10c657400>"
      ]
     },
     "metadata": {},
     "output_type": "display_data"
    }
   ],
   "source": [
    "%matplotlib inline\n",
    "\n",
    "fig, axis = plt.subplots()\n",
    "# Grid lines, Xtricks, Xlabel, Ylabel\n",
    "\n",
    "axis.set_xlabel('Nitrogen oxides concentration (per 10 million)',fontsize=10)\n",
    "axis.set_ylabel('Median Price Value',fontsize=10)\n",
    "\n",
    "X = df['nox']\n",
    "Y = df['medv']\n",
    "\n",
    "axis.scatter(X, Y)\n",
    "plt.show()"
   ]
  },
  {
   "cell_type": "code",
   "execution_count": 24,
   "metadata": {},
   "outputs": [
    {
     "data": {
      "text/plain": [
       "array([[ 1.        , -0.41305415],\n",
       "       [-0.41305415,  1.        ]])"
      ]
     },
     "execution_count": 24,
     "metadata": {},
     "output_type": "execute_result"
    }
   ],
   "source": [
    "np.corrcoef(df['nox'],df['medv'])"
   ]
  },
  {
   "cell_type": "code",
   "execution_count": 50,
   "metadata": {},
   "outputs": [
    {
     "data": {
      "image/png": "[encoded data removed]",
      "text/plain": [
       "<matplotlib.figure.Figure at 0x1a114e9ef0>"
      ]
     },
     "metadata": {},
     "output_type": "display_data"
    }
   ],
   "source": [
    "%matplotlib inline\n",
    "\n",
    "fig, axis = plt.subplots()\n",
    "# Grid lines, Xtricks, Xlabel, Ylabel\n",
    "\n",
    "axis.set_xlabel('Average number of rooms per dwelling',fontsize=10)\n",
    "axis.set_ylabel('Median Price Value',fontsize=10)\n",
    "\n",
    "X = df['rm']\n",
    "Y = df['medv']\n",
    "\n",
    "\n",
    "\n",
    "axis.scatter(X, Y)\n",
    "plt.show()"
   ]
  },
  {
   "cell_type": "code",
   "execution_count": 26,
   "metadata": {},
   "outputs": [
    {
     "data": {
      "text/plain": [
       "array([[ 1.        ,  0.68959809],\n",
       "       [ 0.68959809,  1.        ]])"
      ]
     },
     "execution_count": 26,
     "metadata": {},
     "output_type": "execute_result"
    }
   ],
   "source": [
    "np.corrcoef(df['rm'],df['medv'])"
   ]
  },
  {
   "cell_type": "code",
   "execution_count": 27,
   "metadata": {},
   "outputs": [
    {
     "data": {
      "image/png": "[encoded data removed]",
      "text/plain": [
       "<matplotlib.figure.Figure at 0x1a115544e0>"
      ]
     },
     "metadata": {},
     "output_type": "display_data"
    }
   ],
   "source": [
    "%matplotlib inline\n",
    "\n",
    "fig, axis = plt.subplots()\n",
    "# Grid lines, Xtricks, Xlabel, Ylabel\n",
    "\n",
    "axis.set_xlabel('proportion of onwer-occupied units built prior to 1940',fontsize=10)\n",
    "axis.set_ylabel('Median Price Value',fontsize=10)\n",
    "\n",
    "X = df['age']\n",
    "Y = df['medv']\n",
    "\n",
    "axis.scatter(X, Y)\n",
    "plt.show()"
   ]
  },
  {
   "cell_type": "code",
   "execution_count": 28,
   "metadata": {},
   "outputs": [
    {
     "data": {
      "text/plain": [
       "array([[ 1.        , -0.35888827],\n",
       "       [-0.35888827,  1.        ]])"
      ]
     },
     "execution_count": 28,
     "metadata": {},
     "output_type": "execute_result"
    }
   ],
   "source": [
    "np.corrcoef(df['age'],df['medv'])"
   ]
  },
  {
   "cell_type": "code",
   "execution_count": 29,
   "metadata": {},
   "outputs": [
    {
     "data": {
      "image/png": "[encoded data removed]",
      "text/plain": [
       "<matplotlib.figure.Figure at 0x1a114ef748>"
      ]
     },
     "metadata": {},
     "output_type": "display_data"
    }
   ],
   "source": [
    "%matplotlib inline\n",
    "\n",
    "fig, axis = plt.subplots()\n",
    "# Grid lines, Xtricks, Xlabel, Ylabel\n",
    "\n",
    "axis.set_xlabel('Weighted mean of distances to five Boston Employment centers',fontsize=10)\n",
    "axis.set_ylabel('Median Price Value',fontsize=10)\n",
    "\n",
    "X = df['dis']\n",
    "Y = df['medv']\n",
    "\n",
    "axis.scatter(X, Y)\n",
    "plt.show()"
   ]
  },
  {
   "cell_type": "code",
   "execution_count": 30,
   "metadata": {},
   "outputs": [
    {
     "data": {
      "text/plain": [
       "array([[ 1.        ,  0.24942227],\n",
       "       [ 0.24942227,  1.        ]])"
      ]
     },
     "execution_count": 30,
     "metadata": {},
     "output_type": "execute_result"
    }
   ],
   "source": [
    "np.corrcoef(df['dis'],df['medv'])"
   ]
  },
  {
   "cell_type": "code",
   "execution_count": 31,
   "metadata": {},
   "outputs": [
    {
     "data": {
      "image/png": "[encoded data removed]",
      "text/plain": [
       "<matplotlib.figure.Figure at 0x1a11724320>"
      ]
     },
     "metadata": {},
     "output_type": "display_data"
    }
   ],
   "source": [
    "%matplotlib inline\n",
    "\n",
    "fig, axis = plt.subplots()\n",
    "# Grid lines, Xtricks, Xlabel, Ylabel\n",
    "\n",
    "axis.set_xlabel('Index of accessibility to radial highways',fontsize=10)\n",
    "axis.set_ylabel('Median Price Value',fontsize=10)\n",
    "\n",
    "X = df['rad']\n",
    "Y = df['medv']\n",
    "\n",
    "axis.scatter(X, Y)\n",
    "plt.show()"
   ]
  },
  {
   "cell_type": "code",
   "execution_count": 32,
   "metadata": {},
   "outputs": [
    {
     "data": {
      "text/plain": [
       "array([[ 1.        , -0.35225082],\n",
       "       [-0.35225082,  1.        ]])"
      ]
     },
     "execution_count": 32,
     "metadata": {},
     "output_type": "execute_result"
    }
   ],
   "source": [
    "np.corrcoef(df['rad'],df['medv'])"
   ]
  },
  {
   "cell_type": "code",
   "execution_count": 33,
   "metadata": {},
   "outputs": [
    {
     "data": {
      "image/png": "[encoded data removed]",
      "text/plain": [
       "<matplotlib.figure.Figure at 0x1a1171c780>"
      ]
     },
     "metadata": {},
     "output_type": "display_data"
    }
   ],
   "source": [
    "%matplotlib inline\n",
    "\n",
    "fig, axis = plt.subplots()\n",
    "# Grid lines, Xtricks, Xlabel, Ylabel\n",
    "\n",
    "axis.set_xlabel('Full-value property tax rate (per $10,000)',fontsize=10)\n",
    "axis.set_ylabel('Median Price Value',fontsize=10)\n",
    "\n",
    "X = df['tax']\n",
    "Y = df['medv']\n",
    "\n",
    "axis.scatter(X, Y)\n",
    "plt.show()"
   ]
  },
  {
   "cell_type": "code",
   "execution_count": 34,
   "metadata": {},
   "outputs": [
    {
     "data": {
      "text/plain": [
       "array([[ 1.        , -0.44807769],\n",
       "       [-0.44807769,  1.        ]])"
      ]
     },
     "execution_count": 34,
     "metadata": {},
     "output_type": "execute_result"
    }
   ],
   "source": [
    "np.corrcoef(df['tax'],df['medv'])"
   ]
  },
  {
   "cell_type": "code",
   "execution_count": 35,
   "metadata": {},
   "outputs": [
    {
     "data": {
      "image/png": "[encoded data removed]",
      "text/plain": [
       "<matplotlib.figure.Figure at 0x1a118311d0>"
      ]
     },
     "metadata": {},
     "output_type": "display_data"
    }
   ],
   "source": [
    "%matplotlib inline\n",
    "\n",
    "fig, axis = plt.subplots()\n",
    "# Grid lines, Xtricks, Xlabel, Ylabel\n",
    "\n",
    "axis.set_xlabel('Pupil-teacher ratio by town',fontsize=10)\n",
    "axis.set_ylabel('Median Price Value',fontsize=10)\n",
    "\n",
    "X = df['ptratio']\n",
    "Y = df['medv']\n",
    "\n",
    "axis.scatter(X, Y)\n",
    "plt.show()"
   ]
  },
  {
   "cell_type": "code",
   "execution_count": 36,
   "metadata": {},
   "outputs": [
    {
     "data": {
      "text/plain": [
       "array([[ 1.        , -0.48137596],\n",
       "       [-0.48137596,  1.        ]])"
      ]
     },
     "execution_count": 36,
     "metadata": {},
     "output_type": "execute_result"
    }
   ],
   "source": [
    "np.corrcoef(df['ptratio'],df['medv'])"
   ]
  },
  {
   "cell_type": "code",
   "execution_count": 37,
   "metadata": {},
   "outputs": [
    {
     "data": {
      "image/png": "[encoded data removed]",
      "text/plain": [
       "<matplotlib.figure.Figure at 0x1a1190d588>"
      ]
     },
     "metadata": {},
     "output_type": "display_data"
    }
   ],
   "source": [
    "%matplotlib inline\n",
    "\n",
    "fig, axis = plt.subplots()\n",
    "# Grid lines, Xtricks, Xlabel, Ylabel\n",
    "\n",
    "axis.set_xlabel('Propotion of blacks by town (%)',fontsize=10)\n",
    "axis.set_ylabel('Median Price Value',fontsize=10)\n",
    "\n",
    "X = df['black']\n",
    "Y = df['medv']\n",
    "\n",
    "axis.scatter(X, Y)\n",
    "plt.show()"
   ]
  },
  {
   "cell_type": "code",
   "execution_count": 38,
   "metadata": {},
   "outputs": [
    {
     "data": {
      "text/plain": [
       "array([[ 1.        ,  0.33665956],\n",
       "       [ 0.33665956,  1.        ]])"
      ]
     },
     "execution_count": 38,
     "metadata": {},
     "output_type": "execute_result"
    }
   ],
   "source": [
    "np.corrcoef(df['black'],df['medv'])"
   ]
  },
  {
   "cell_type": "code",
   "execution_count": 39,
   "metadata": {},
   "outputs": [
    {
     "data": {
      "text/plain": [
       "array([[ 1.        , -0.73860003],\n",
       "       [-0.73860003,  1.        ]])"
      ]
     },
     "execution_count": 39,
     "metadata": {},
     "output_type": "execute_result"
    }
   ],
   "source": [
    "np.corrcoef(df['lstat'],df['medv'])"
   ]
  },
  {
   "cell_type": "markdown",
   "metadata": {},
   "source": [
    "## Split the Dataset into Training and Test Datasets"
   ]
  },
  {
   "cell_type": "code",
   "execution_count": 40,
   "metadata": {
    "collapsed": true
   },
   "outputs": [],
   "source": [
    "X_train, X_test, y_train, y_test = train_test_split(X, y, test_size=0.33, random_state=324)"
   ]
  },
  {
   "cell_type": "markdown",
   "metadata": {},
   "source": [
    "## (1) Linear Regression: Fit a model to athe training set"
   ]
  },
  {
   "cell_type": "code",
   "execution_count": 365,
   "metadata": {},
   "outputs": [
    {
     "data": {
      "text/plain": [
       "LinearRegression(copy_X=True, fit_intercept=True, n_jobs=1, normalize=False)"
      ]
     },
     "execution_count": 365,
     "metadata": {},
     "output_type": "execute_result"
    }
   ],
   "source": [
    "regressor = LinearRegression()\n",
    "regressor.fit(X_train, y_train)"
   ]
  },
  {
   "cell_type": "markdown",
   "metadata": {
    "collapsed": true
   },
   "source": [
    "## Perform Prediction using Linear Regression Model"
   ]
  },
  {
   "cell_type": "code",
   "execution_count": 366,
   "metadata": {},
   "outputs": [
    {
     "data": {
      "text/plain": [
       "array([[ 24.51289703],\n",
       "       [ 31.73958938],\n",
       "       [ 24.16079159],\n",
       "       [ 20.17101962],\n",
       "       [ 19.92546726],\n",
       "       [ 17.09661694],\n",
       "       [ 31.28138187],\n",
       "       [ 19.41122231],\n",
       "       [ 11.90960216],\n",
       "       [ 37.91837578],\n",
       "       [ 22.36855628],\n",
       "       [ 20.47013531],\n",
       "       [ 16.97998159],\n",
       "       [ 22.40846053],\n",
       "       [ 22.20474882],\n",
       "       [ 22.97537319],\n",
       "       [ 24.19824859],\n",
       "       [ 12.01903279],\n",
       "       [ 18.96063055],\n",
       "       [ 21.58521279],\n",
       "       [ 26.68205117],\n",
       "       [ 27.47636576],\n",
       "       [ 27.04970322],\n",
       "       [ 21.85763436],\n",
       "       [ 17.57938034],\n",
       "       [ 20.9675915 ],\n",
       "       [ 22.38825601],\n",
       "       [  1.60596211],\n",
       "       [ 23.91606604],\n",
       "       [ 21.68954971],\n",
       "       [ 18.53815072],\n",
       "       [ 26.20696624],\n",
       "       [ 22.56560315],\n",
       "       [ 20.31037568],\n",
       "       [ 15.22213208],\n",
       "       [ 24.55684838],\n",
       "       [ 27.15589569],\n",
       "       [ 27.20956552],\n",
       "       [ 24.80526392],\n",
       "       [ 31.32409661],\n",
       "       [ 26.15692686],\n",
       "       [ 26.05224095],\n",
       "       [ 33.63483611],\n",
       "       [ 26.55123796],\n",
       "       [ 20.95999638],\n",
       "       [ 37.95926261],\n",
       "       [ 14.14997731],\n",
       "       [  5.52131364],\n",
       "       [ 18.88727032],\n",
       "       [ 36.76658474],\n",
       "       [ 14.21372183],\n",
       "       [ 28.40981725],\n",
       "       [ 22.75767073],\n",
       "       [ 20.10206656],\n",
       "       [ 16.0479125 ],\n",
       "       [ 31.18459632],\n",
       "       [ 25.56564051],\n",
       "       [  5.48024506],\n",
       "       [  8.59370649],\n",
       "       [ 28.92471591],\n",
       "       [ 20.58673027],\n",
       "       [ 25.82761767],\n",
       "       [ 24.03104852],\n",
       "       [ 20.94932173],\n",
       "       [ 26.20035792],\n",
       "       [ 19.8781802 ],\n",
       "       [ 20.1734472 ],\n",
       "       [ 34.67067574],\n",
       "       [ 25.90520604],\n",
       "       [ 23.14702661],\n",
       "       [ 29.21884429],\n",
       "       [ 21.63880144],\n",
       "       [ 22.77601398],\n",
       "       [ 18.95867195],\n",
       "       [ 35.50527899],\n",
       "       [ 24.2912068 ],\n",
       "       [ 20.53954549],\n",
       "       [ 20.1193356 ],\n",
       "       [ 31.17986909],\n",
       "       [ 25.87036094],\n",
       "       [ 18.23366156],\n",
       "       [ 15.64603387],\n",
       "       [ 29.59515865],\n",
       "       [ 30.82334898],\n",
       "       [ 29.40274594],\n",
       "       [ 23.05785053],\n",
       "       [ 30.62672634],\n",
       "       [ 20.08760433],\n",
       "       [ 21.60555188],\n",
       "       [ 18.65675146],\n",
       "       [ 28.93349207],\n",
       "       [ 17.32355184],\n",
       "       [ 36.19743848],\n",
       "       [ 19.11263155],\n",
       "       [ 19.98584773],\n",
       "       [  8.07105594],\n",
       "       [ 27.03162356],\n",
       "       [ 29.91121089],\n",
       "       [ 18.74811505],\n",
       "       [ 24.14651896],\n",
       "       [ 17.68970702],\n",
       "       [ 40.05508136],\n",
       "       [ 28.41562617],\n",
       "       [ 17.15316431],\n",
       "       [ 26.45626668],\n",
       "       [ 33.79449775],\n",
       "       [ 20.44556817],\n",
       "       [ 24.11070799],\n",
       "       [ 25.13407076],\n",
       "       [ 19.56642081]])"
      ]
     },
     "execution_count": 366,
     "metadata": {},
     "output_type": "execute_result"
    }
   ],
   "source": [
    "y_prediction = regressor.predict(X_test)\n",
    "y_prediction"
   ]
  },
  {
   "cell_type": "markdown",
   "metadata": {},
   "source": [
    "## What is the mean of the expected target value in test set?"
   ]
  },
  {
   "cell_type": "code",
   "execution_count": 367,
   "metadata": {},
   "outputs": [
    {
     "data": {
      "text/html": [
       "<div>\n",
       "<style>\n",
       "    .dataframe thead tr:only-child th {\n",
       "        text-align: right;\n",
       "    }\n",
       "\n",
       "    .dataframe thead th {\n",
       "        text-align: left;\n",
       "    }\n",
       "\n",
       "    .dataframe tbody tr th {\n",
       "        vertical-align: top;\n",
       "    }\n",
       "</style>\n",
       "<table border=\"1\" class=\"dataframe\">\n",
       "  <thead>\n",
       "    <tr style=\"text-align: right;\">\n",
       "      <th></th>\n",
       "      <th>medv</th>\n",
       "    </tr>\n",
       "  </thead>\n",
       "  <tbody>\n",
       "    <tr>\n",
       "      <th>count</th>\n",
       "      <td>110.000000</td>\n",
       "    </tr>\n",
       "    <tr>\n",
       "      <th>mean</th>\n",
       "      <td>22.150909</td>\n",
       "    </tr>\n",
       "    <tr>\n",
       "      <th>std</th>\n",
       "      <td>7.373804</td>\n",
       "    </tr>\n",
       "    <tr>\n",
       "      <th>min</th>\n",
       "      <td>7.400000</td>\n",
       "    </tr>\n",
       "    <tr>\n",
       "      <th>25%</th>\n",
       "      <td>17.800000</td>\n",
       "    </tr>\n",
       "    <tr>\n",
       "      <th>50%</th>\n",
       "      <td>21.800000</td>\n",
       "    </tr>\n",
       "    <tr>\n",
       "      <th>75%</th>\n",
       "      <td>24.375000</td>\n",
       "    </tr>\n",
       "    <tr>\n",
       "      <th>max</th>\n",
       "      <td>50.000000</td>\n",
       "    </tr>\n",
       "  </tbody>\n",
       "</table>\n",
       "</div>"
      ],
      "text/plain": [
       "             medv\n",
       "count  110.000000\n",
       "mean    22.150909\n",
       "std      7.373804\n",
       "min      7.400000\n",
       "25%     17.800000\n",
       "50%     21.800000\n",
       "75%     24.375000\n",
       "max     50.000000"
      ]
     },
     "execution_count": 367,
     "metadata": {},
     "output_type": "execute_result"
    }
   ],
   "source": [
    "y_test.describe()"
   ]
  },
  {
   "cell_type": "markdown",
   "metadata": {},
   "source": [
    "## Evaluate Linear Regression Accuracy using Root Mean Square Error"
   ]
  },
  {
   "cell_type": "markdown",
   "metadata": {},
   "source": [
    "RMSE captures the variation of the predicted value. An RMSE score of zero\n",
    "means perfect prediction with no errors,\n",
    "which is the ideal scenario, which almost never happens.\n",
    "<br><br>\n",
    "When comparing two regression models,\n",
    "then the one with the smaller RMSE will be better\n",
    "since its predictions will have smaller difference\n",
    "from the observed values, or the measured values, before."
   ]
  },
  {
   "cell_type": "code",
   "execution_count": 368,
   "metadata": {
    "collapsed": true
   },
   "outputs": [],
   "source": [
    "RMSE = sqrt(mean_squared_error(y_true = y_test, y_pred = y_prediction))"
   ]
  },
  {
   "cell_type": "code",
   "execution_count": 369,
   "metadata": {},
   "outputs": [
    {
     "name": "stdout",
     "output_type": "stream",
     "text": [
      "4.881392766371708\n"
     ]
    }
   ],
   "source": [
    "print(RSME)"
   ]
  },
  {
   "cell_type": "code",
   "execution_count": 494,
   "metadata": {},
   "outputs": [
    {
     "data": {
      "image/png": "[encoded data removed]",
      "text/plain": [
       "<matplotlib.figure.Figure at 0x1176763c8>"
      ]
     },
     "metadata": {},
     "output_type": "display_data"
    }
   ],
   "source": [
    "%matplotlib inline\n",
    "import pandas as pd\n",
    "import numpy as np\n",
    "from matplotlib import pyplot as plt\n",
    "\n",
    "plt.plot(y_test, color='green', marker = \"o\")\n",
    "plt.plot(y_prediction, color='red', marker = \"o\")\n",
    "plt.xlabel('x')\n",
    "plt.ylabel('y')\n",
    "plt.grid()\n",
    "plt.show()\n",
    "\n",
    "\n",
    "\n",
    "# Create a scatter plot of Salary vs Grade\n",
    "df.plot(kind='scatter', title='Grade vs Salary', x='Grade', y='Salary')\n",
    "\n",
    "# Add a line of best fit\n",
    "plt.plot(np.unique(df['Grade']), np.poly1d(np.polyfit(df['Grade'], df['Salary'], 1))(np.unique(df['Grade'])))\n",
    "\n",
    "plt.show()"
   ]
  },
  {
   "cell_type": "markdown",
   "metadata": {},
   "source": []
  },
  {
   "cell_type": "markdown",
   "metadata": {},
   "source": [
    "## (2) Decision Tree Regressor: Fit a new regression model to the training set"
   ]
  },
  {
   "cell_type": "markdown",
   "metadata": {},
   "source": [
    "A decision tree regressor\n",
    "builds a model in a top-down manner\n",
    "by splitting data set on an attribute.\n",
    "So the algorithm chooses the attribute\n",
    "which gives maximum reduction in standard deviation.\n"
   ]
  },
  {
   "cell_type": "code",
   "execution_count": 370,
   "metadata": {},
   "outputs": [
    {
     "data": {
      "text/plain": [
       "DecisionTreeRegressor(criterion='mse', max_depth=5, max_features=None,\n",
       "           max_leaf_nodes=None, min_impurity_decrease=0.0,\n",
       "           min_impurity_split=None, min_samples_leaf=1,\n",
       "           min_samples_split=2, min_weight_fraction_leaf=0.0,\n",
       "           presort=False, random_state=None, splitter='best')"
      ]
     },
     "execution_count": 370,
     "metadata": {},
     "output_type": "execute_result"
    }
   ],
   "source": [
    "regressor = DecisionTreeRegressor(max_depth=5)\n",
    "regressor.fit(X_train, y_train)"
   ]
  },
  {
   "cell_type": "markdown",
   "metadata": {},
   "source": [
    "## Perform Prediction Using Decision Tree Regressor"
   ]
  },
  {
   "cell_type": "code",
   "execution_count": 371,
   "metadata": {},
   "outputs": [
    {
     "data": {
      "text/plain": [
       "array([ 21.78064516,  27.21333333,  19.78064516,  19.78064516,\n",
       "        19.78064516,  19.78064516,  22.46875   ,  14.46428571,\n",
       "        14.46428571,  46.275     ,  22.46875   ,  10.9       ,\n",
       "        21.3       ,  21.78064516,  21.78064516,  19.78064516,\n",
       "        19.78064516,  17.06666667,  19.78064516,  27.21333333,\n",
       "        21.78064516,  27.21333333,  21.78064516,  19.78064516,\n",
       "        19.78064516,  34.65      ,  19.78064516,   8.1       ,\n",
       "        21.78064516,  22.46875   ,  12.        ,  22.46875   ,\n",
       "        14.46428571,  21.78064516,  21.78064516,  22.46875   ,\n",
       "        22.46875   ,  21.78064516,  19.78064516,  27.21333333,\n",
       "        19.78064516,  27.5       ,  31.15714286,  22.46875   ,\n",
       "        19.78064516,  46.275     ,  14.46428571,   9.97      ,\n",
       "        17.06666667,  37.2       ,  13.85      ,  22.46875   ,\n",
       "        21.78064516,  14.46428571,  14.46428571,  27.21333333,\n",
       "        21.78064516,  13.85      ,   7.31428571,  34.65      ,\n",
       "        21.78064516,  22.46875   ,  22.46875   ,  14.46428571,\n",
       "        22.46875   ,  22.46875   ,  17.06666667,  31.15714286,\n",
       "        21.78064516,  21.78064516,  21.78064516,  19.78064516,\n",
       "        36.2       ,  21.78064516,  49.7       ,  21.78064516,\n",
       "        27.21333333,  21.78064516,  22.46875   ,  22.46875   ,\n",
       "        19.78064516,  21.3       ,  27.21333333,  22.46875   ,\n",
       "        31.15714286,  22.46875   ,  34.65      ,  14.46428571,\n",
       "        19.78064516,  19.78064516,  27.21333333,  17.06666667,\n",
       "        31.15714286,  19.78064516,  14.46428571,  14.46428571,\n",
       "        22.46875   ,  31.        ,  14.46428571,  22.46875   ,\n",
       "        17.06666667,  37.2       ,  22.46875   ,  21.78064516,\n",
       "        22.46875   ,  34.65      ,  36.2       ,  21.78064516,\n",
       "        22.46875   ,  22.46875   ])"
      ]
     },
     "execution_count": 371,
     "metadata": {},
     "output_type": "execute_result"
    }
   ],
   "source": [
    "y_prediction = regressor.predict(X_test)\n",
    "y_prediction"
   ]
  },
  {
   "cell_type": "markdown",
   "metadata": {},
   "source": [
    "## For comparison: What is the mean of the expected target value in test set ?"
   ]
  },
  {
   "cell_type": "code",
   "execution_count": 372,
   "metadata": {},
   "outputs": [
    {
     "data": {
      "text/html": [
       "<div>\n",
       "<style>\n",
       "    .dataframe thead tr:only-child th {\n",
       "        text-align: right;\n",
       "    }\n",
       "\n",
       "    .dataframe thead th {\n",
       "        text-align: left;\n",
       "    }\n",
       "\n",
       "    .dataframe tbody tr th {\n",
       "        vertical-align: top;\n",
       "    }\n",
       "</style>\n",
       "<table border=\"1\" class=\"dataframe\">\n",
       "  <thead>\n",
       "    <tr style=\"text-align: right;\">\n",
       "      <th></th>\n",
       "      <th>medv</th>\n",
       "    </tr>\n",
       "  </thead>\n",
       "  <tbody>\n",
       "    <tr>\n",
       "      <th>count</th>\n",
       "      <td>110.000000</td>\n",
       "    </tr>\n",
       "    <tr>\n",
       "      <th>mean</th>\n",
       "      <td>22.150909</td>\n",
       "    </tr>\n",
       "    <tr>\n",
       "      <th>std</th>\n",
       "      <td>7.373804</td>\n",
       "    </tr>\n",
       "    <tr>\n",
       "      <th>min</th>\n",
       "      <td>7.400000</td>\n",
       "    </tr>\n",
       "    <tr>\n",
       "      <th>25%</th>\n",
       "      <td>17.800000</td>\n",
       "    </tr>\n",
       "    <tr>\n",
       "      <th>50%</th>\n",
       "      <td>21.800000</td>\n",
       "    </tr>\n",
       "    <tr>\n",
       "      <th>75%</th>\n",
       "      <td>24.375000</td>\n",
       "    </tr>\n",
       "    <tr>\n",
       "      <th>max</th>\n",
       "      <td>50.000000</td>\n",
       "    </tr>\n",
       "  </tbody>\n",
       "</table>\n",
       "</div>"
      ],
      "text/plain": [
       "             medv\n",
       "count  110.000000\n",
       "mean    22.150909\n",
       "std      7.373804\n",
       "min      7.400000\n",
       "25%     17.800000\n",
       "50%     21.800000\n",
       "75%     24.375000\n",
       "max     50.000000"
      ]
     },
     "execution_count": 372,
     "metadata": {},
     "output_type": "execute_result"
    }
   ],
   "source": [
    "y_test.describe()"
   ]
  },
  {
   "cell_type": "markdown",
   "metadata": {},
   "source": [
    "## Evaluate Decision Tree Regression Accuracy using Root Mean Square Error"
   ]
  },
  {
   "cell_type": "code",
   "execution_count": 373,
   "metadata": {
    "collapsed": true
   },
   "outputs": [],
   "source": [
    "RSME = sqrt(mean_squared_error(y_true = y_test, y_pred = y_prediction))"
   ]
  },
  {
   "cell_type": "code",
   "execution_count": 374,
   "metadata": {},
   "outputs": [
    {
     "name": "stdout",
     "output_type": "stream",
     "text": [
      "4.146173480633105\n"
     ]
    }
   ],
   "source": [
    "print(RSME)"
   ]
  }
 ],
 "metadata": {
  "kernelspec": {
   "display_name": "Python [default]",
   "language": "python",
   "name": "python3"
  },
  "language_info": {
   "codemirror_mode": {
    "name": "ipython",
    "version": 3
   },
   "file_extension": ".py",
   "mimetype": "text/x-python",
   "name": "python",
   "nbconvert_exporter": "python",
   "pygments_lexer": "ipython3",
   "version": "3.6.3"
  }
 },
 "nbformat": 4,
 "nbformat_minor": 2
}
